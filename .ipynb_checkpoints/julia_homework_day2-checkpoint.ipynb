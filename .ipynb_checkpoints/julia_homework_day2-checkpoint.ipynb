{
 "cells": [
  {
   "cell_type": "markdown",
   "metadata": {},
   "source": [
    "# Classic Algorithms"
   ]
  },
  {
   "cell_type": "markdown",
   "metadata": {},
   "source": [
    "## Tasks Today:\n",
    " \n",
    "1) <b>In-Place Algorithms</b> <br>\n",
    " &nbsp;&nbsp;&nbsp;&nbsp; a) Syntax <br>\n",
    " &nbsp;&nbsp;&nbsp;&nbsp; a) Out of Place Algorithm <br>\n",
    " &nbsp;&nbsp;&nbsp;&nbsp; b) In-Class Exercise #1 <br>\n",
    "2) <b>Two Pointers</b> <br>\n",
    "3) <b>Linked Lists</b> <br>\n",
    "4) <b>Merge Sort</b> <br>\n",
    " &nbsp;&nbsp;&nbsp;&nbsp; a) Video on Algorithms <br>\n",
    " &nbsp;&nbsp;&nbsp;&nbsp; b) How it Works <br>\n",
    "5) <b>Exercises</b> <br>\n",
    " &nbsp;&nbsp;&nbsp;&nbsp; a) Exercise #1 - Reverse a List in Place Using an In-Place Algorithm <br>\n",
    " &nbsp;&nbsp;&nbsp;&nbsp; b) Exercise #2 - Find Distinct Words <br>\n",
    " &nbsp;&nbsp;&nbsp;&nbsp; c) Exercise #3 - Write a program to implement a Linear Search Algorithm. <br>"
   ]
  },
  {
   "cell_type": "markdown",
   "metadata": {},
   "source": [
    "# Exercises"
   ]
  },
  {
   "cell_type": "markdown",
   "metadata": {},
   "source": [
    "### Exercise #1 <br>\n",
    "<p>Reverse the list below in-place using an in-place algorithm.<br>For extra credit: Reverse the strings at the same time.</p>"
   ]
  },
  {
   "cell_type": "code",
   "execution_count": 7,
   "metadata": {},
   "outputs": [
    {
     "name": "stdout",
     "output_type": "stream",
     "text": [
      "['.', 'ecnetnes', 'a', 'si', 'siht']\n",
      "['!', 'ecnetnes', 'regnol', 'neve', 'na', 'si', 'siht']\n"
     ]
    }
   ],
   "source": [
    "words = ['this', 'is', 'a', 'sentence', '.']\n",
    "words2 = ['this', 'is', 'an', 'even', 'longer', 'sentence', \"!\"]\n",
    "\n",
    "def swap(arr):\n",
    "    l, r = 0, len(arr)-1\n",
    "    while l <= r:\n",
    "        arr[l], arr[r] = arr[r], arr[l]\n",
    "        l += 1\n",
    "        r -= 1\n",
    "    return [x[::-1] for x in arr]       \n",
    "\n",
    "print(swap(words))\n",
    "print(swap(words2))"
   ]
  },
  {
   "cell_type": "markdown",
   "metadata": {},
   "source": [
    "### Exercise #2 <br>\n",
    "<p>Create a function that counts how many distinct words are in the string below, then outputs a dictionary with the words as the key and the value as the amount of times that word appears in the string.<br>Should output:<br>{'a': 5,<br>\n",
    " 'abstract': 1,<br>\n",
    " 'an': 3,<br>\n",
    " 'array': 2, ... etc...</p>"
   ]
  },
  {
   "cell_type": "code",
   "execution_count": 123,
   "metadata": {},
   "outputs": [
    {
     "name": "stdout",
     "output_type": "stream",
     "text": [
      "The word 'a' appears 5 times.\n",
      "The word 'an' appears 3 times.\n",
      "The word 'hash' appears 4 times.\n",
      "The follwing words appear twice: array, can, data, map, structure, table, to and which.\n",
      "The follwing words appear once: abstract, associative, be, buckets, compute, computing, desired, found, from, function, implements, in, index, into, is, keys, of, or, slots, that, the, type, uses, value and values.\n"
     ]
    },
    {
     "data": {
      "text/plain": [
       "{'a': 5,\n",
       " 'abstract': 1,\n",
       " 'an': 3,\n",
       " 'array': 2,\n",
       " 'associative': 1,\n",
       " 'be': 1,\n",
       " 'buckets': 1,\n",
       " 'can': 2,\n",
       " 'compute': 1,\n",
       " 'computing': 1,\n",
       " 'data': 2,\n",
       " 'desired': 1,\n",
       " 'found': 1,\n",
       " 'from': 1,\n",
       " 'function': 1,\n",
       " 'hash': 4,\n",
       " 'implements': 1,\n",
       " 'in': 1,\n",
       " 'index': 1,\n",
       " 'into': 1,\n",
       " 'is': 1,\n",
       " 'keys': 1,\n",
       " 'map': 2,\n",
       " 'of': 1,\n",
       " 'or': 1,\n",
       " 'slots': 1,\n",
       " 'structure': 2,\n",
       " 'table': 2,\n",
       " 'that': 1,\n",
       " 'the': 1,\n",
       " 'to': 2,\n",
       " 'type': 1,\n",
       " 'uses': 1,\n",
       " 'value': 1,\n",
       " 'values': 1,\n",
       " 'which': 2}"
      ]
     },
     "execution_count": 123,
     "metadata": {},
     "output_type": "execute_result"
    }
   ],
   "source": [
    "a_text = 'In computing, a hash table hash map is a data structure which implements an associative array abstract data type, a structure that can map keys to values. A hash table uses a hash function to compute an index into an array of buckets or slots from which the desired value can be found'\n",
    "\n",
    "def listofwords(arr):\n",
    "    if len(arr) > 2:\n",
    "        for word in arr[:-2]:\n",
    "            print(word + \", \", end=\"\")\n",
    "    print(f\"{arr[-2]} and {arr[-1]}.\")\n",
    "\n",
    "def wordCount(string):\n",
    "    wordDict = {}\n",
    "    wordList = string.replace(\",\",\"\").replace(\".\",\"\").lower().split(\" \")\n",
    "    \n",
    "    for word in wordList:\n",
    "        if word in wordDict.keys():\n",
    "            wordDict[word] += 1\n",
    "        else:\n",
    "            wordDict[word] = 1\n",
    "    return dict(sorted(wordDict.items(), key=lambda item:item))\n",
    "\n",
    "def displayWordCount(adict):\n",
    "    twowords = []\n",
    "    oneword = []\n",
    "    for key, value in adict.items():\n",
    "        if value > 2:\n",
    "            print(f\"The word '{key}' appears {value} times.\")\n",
    "        elif value == 2:\n",
    "            twowords.append(key)\n",
    "        else:\n",
    "            oneword.append(key)\n",
    "    print(\"The follwing words appear twice: \", end=\"\")\n",
    "    listofwords(twowords)\n",
    "    print(\"The follwing words appear once: \", end=\"\")\n",
    "    listofwords(oneword)\n",
    "    \n",
    "displayWordCount(wordCount(a_text))\n",
    "wordCount(a_text)"
   ]
  },
  {
   "cell_type": "markdown",
   "metadata": {},
   "source": [
    "## Exercise #3\n",
    "\n",
    "Write a program to implement a Linear Search Algorithm. Also in a comment, write the Time Complexity of the following algorithm.\n",
    "\n",
    "#### Hint: Linear Searching will require searching a list for a given number. "
   ]
  },
  {
   "cell_type": "code",
   "execution_count": 120,
   "metadata": {},
   "outputs": [
    {
     "data": {
      "text/plain": [
       "5"
      ]
     },
     "execution_count": 120,
     "metadata": {},
     "output_type": "execute_result"
    }
   ],
   "source": [
    "def linearSearch(arr, num):\n",
    "    \"\"\"given an array and a number, returns the index of the number if the number is in the list. Otherwise, returns -1.\"\"\"\n",
    "    for i, x in enumerate(arr):\n",
    "        if x == num:\n",
    "            return i\n",
    "    return -1\n",
    "\n",
    "linearSearch([1, 22, 34, 44, 55, 66, 88, 100], 66)\n",
    "\n",
    "#The time complexity of this algorithm is linear 0(n), \n",
    "# meaning it goes through each item in the interable once. \n",
    "# This is fine for a small data set, but for a very large \n",
    "# data set I believe a bianary search would be preferable. \n"
   ]
  },
  {
   "cell_type": "code",
   "execution_count": null,
   "metadata": {},
   "outputs": [],
   "source": []
  }
 ],
 "metadata": {
  "kernelspec": {
   "display_name": "Python 3 (ipykernel)",
   "language": "python",
   "name": "python3"
  },
  "language_info": {
   "codemirror_mode": {
    "name": "ipython",
    "version": 3
   },
   "file_extension": ".py",
   "mimetype": "text/x-python",
   "name": "python",
   "nbconvert_exporter": "python",
   "pygments_lexer": "ipython3",
   "version": "3.9.12"
  }
 },
 "nbformat": 4,
 "nbformat_minor": 2
}
